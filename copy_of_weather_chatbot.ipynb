{
  "nbformat": 4,
  "nbformat_minor": 0,
  "metadata": {
    "colab": {
      "provenance": [],
      "toc_visible": true,
      "authorship_tag": "ABX9TyMZhzmANe6Xbesz01sdIBYc",
      "include_colab_link": true
    },
    "kernelspec": {
      "name": "python3",
      "display_name": "Python 3"
    },
    "language_info": {
      "name": "python"
    }
  },
  "cells": [
    {
      "cell_type": "markdown",
      "metadata": {
        "id": "view-in-github",
        "colab_type": "text"
      },
      "source": [
        "<a href=\"https://colab.research.google.com/github/Mahammadkottala/weather_chatbot/blob/main/copy_of_weather_chatbot.ipynb\" target=\"_parent\"><img src=\"https://colab.research.google.com/assets/colab-badge.svg\" alt=\"Open In Colab\"/></a>"
      ]
    },
    {
      "cell_type": "code",
      "execution_count": null,
      "metadata": {
        "colab": {
          "base_uri": "https://localhost:8080/"
        },
        "id": "gjpwiGix6nZG",
        "outputId": "dc357579-9c33-4cde-8dd3-131a26876b2f"
      },
      "outputs": [
        {
          "output_type": "stream",
          "name": "stdout",
          "text": [
            "Enter a location: kadapa\n",
            "The weather in kadapa is overcast clouds. The temperature is 29.29°C, humidity is 62%, and wind speed is 5.44 m/s.\n"
          ]
        }
      ],
      "source": [
        "import requests\n",
        "\n",
        "def get_weather(location):\n",
        "    api_key = \"8c9d36ccb95aff6e0f000cca1aa3bc91\"\n",
        "    base_url = \"http://api.openweathermap.org/data/2.5/weather\"\n",
        "    params = {\n",
        "        \"q\": location,\n",
        "        \"appid\": api_key,\n",
        "        \"units\": \"metric\"  # Get temperature in Celsius\n",
        "    }\n",
        "    response = requests.get(base_url, params=params)\n",
        "    data = response.json()\n",
        "\n",
        "    if response.status_code == 200:\n",
        "        temperature = data[\"main\"][\"temp\"]\n",
        "        humidity = data[\"main\"][\"humidity\"]\n",
        "        wind_speed = data[\"wind\"][\"speed\"]\n",
        "        weather_description = data[\"weather\"][0][\"description\"]\n",
        "\n",
        "        return temperature, humidity, wind_speed, weather_description\n",
        "    else:\n",
        "        return None\n",
        "\n",
        "def generate_response(location, temperature, humidity, wind_speed, weather_description):\n",
        "    if temperature is None:\n",
        "        return \"Sorry, I couldn't retrieve the weather information for that location.\"\n",
        "\n",
        "    response = f\"The weather in {location} is {weather_description}. \"\n",
        "    response += f\"The temperature is {temperature}°C, humidity is {humidity}%, \"\n",
        "    response += f\"and wind speed is {wind_speed} m/s.\"\n",
        "    return response\n",
        "\n",
        "def main():\n",
        "    location = input(\"Enter a location: \")\n",
        "    weather_data = get_weather(location)\n",
        "\n",
        "    temperature, humidity, wind_speed, weather_description = weather_data\n",
        "\n",
        "    response = generate_response(location, temperature, humidity, wind_speed, weather_description)\n",
        "    print(response)\n",
        "\n",
        "if __name__ == \"__main__\":\n",
        "  main()"
      ]
    }
  ]
}